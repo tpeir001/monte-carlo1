{
 "cells": [
  {
   "cell_type": "markdown",
   "metadata": {},
   "source": [
    "# MC Integration\n",
    "\n",
    "We will use Monte Carlo (MC) to calculate $\\pi$ using the Python Standard Library"
   ]
  },
  {
   "cell_type": "code",
   "execution_count": null,
   "metadata": {},
   "outputs": [],
   "source": [
    "import random\n",
    "import math\n",
    "import time \n",
    "\n",
    "import numpy as np"
   ]
  },
  {
   "cell_type": "code",
   "execution_count": null,
   "metadata": {},
   "outputs": [],
   "source": [
    "n_samples = 100\n",
    "\n",
    "num_inside = 0"
   ]
  },
  {
   "cell_type": "code",
   "execution_count": null,
   "metadata": {},
   "outputs": [],
   "source": [
    "for i in range(n_samples):\n",
    "    \n",
    "    # Generate a random point between 0 and 1 for x.\n",
    "    x = random.random()\n",
    "    \n",
    "    # Generate a random point between 0 and 1 for y.\n",
    "    y = random.random()\n",
    "    \n",
    "    # Print the point\n",
    "    #print(f'The generated point is '({x},{y})')\n",
    "    \n",
    "    distance_from_origin = math.sqrt(x**2 + y**2)\n",
    "    \n",
    "    if distance_from_origin < 1:\n",
    "        num_inside += 1"
   ]
  },
  {
   "cell_type": "code",
   "execution_count": null,
   "metadata": {},
   "outputs": [],
   "source": [
    "# Calculate pi\n",
    "my_pi = 4 * num_inside/n_samples"
   ]
  },
  {
   "cell_type": "code",
   "execution_count": null,
   "metadata": {},
   "outputs": [],
   "source": [
    "print(my_pi)"
   ]
  },
  {
   "cell_type": "code",
   "execution_count": null,
   "metadata": {},
   "outputs": [],
   "source": [
    "import matplotlib.pyplot as plt\n",
    "\n",
    "%matplotlib notebook"
   ]
  },
  {
   "cell_type": "code",
   "execution_count": null,
   "metadata": {
    "scrolled": true
   },
   "outputs": [],
   "source": [
    "# create empty figure\n",
    "\n",
    "fig = plt.figure()\n",
    "ax = fig.add_subplot(111)\n",
    "fig.show()"
   ]
  },
  {
   "cell_type": "code",
   "execution_count": null,
   "metadata": {},
   "outputs": [],
   "source": [
    "n_samples = 10000000\n",
    "\n",
    "start = time.time()\n",
    "\n",
    "# empty lists for appending\n",
    "calculated_pi = []\n",
    "n_values = []\n",
    "\n",
    "num_inside = 0\n",
    "\n",
    "for i in range(1, n_samples):\n",
    "    \n",
    "    # Generate a random point between 0 and 1 for x.\n",
    "    x = random.random()\n",
    "    \n",
    "    # Generate a random point between 0 and 1 for y.\n",
    "    y = random.random()\n",
    "    \n",
    "    # Print the point\n",
    "    #print(f'The generated point is '({x},{y})')\n",
    "    \n",
    "    distance_from_origin = math.sqrt(x**2 + y**2)\n",
    "    \n",
    "    if distance_from_origin < 1:\n",
    "        num_inside += 1\n",
    "        \n",
    "\n",
    "my_pi = 4 * num_inside/n_samples\n",
    "\n",
    "end = time.time()\n",
    "\n",
    "elapsed_time = end - start\n",
    "\n",
    "print(f'{my_pi} calculated with {n_samples} samples using Python st lib : {elapsed_time}')"
   ]
  },
  {
   "cell_type": "markdown",
   "metadata": {},
   "source": [
    "# NumPy Calculation of pi"
   ]
  },
  {
   "cell_type": "code",
   "execution_count": null,
   "metadata": {},
   "outputs": [],
   "source": [
    "start = time.time()\n",
    "\n",
    "random_numbers = np.random.random((n_samples,2))\n",
    "r_squared = random_numbers ** 2\n",
    "vals = r_squared.sum(axis=1)\n",
    "vals = np.sqrt(vals)\n",
    "points_inside = vals < 1\n",
    "\n",
    "num_inside = points_inside.sum()\n",
    "\n",
    "pi = 4 * num_inside/n_samples\n",
    "\n",
    "end = time.time()\n",
    "\n",
    "elapsed_time_numpy = end - start\n",
    "\n",
    "print(f'{pi} calculated with {n_samples} samples using Python st lib : {elapsed_time_numpy}')"
   ]
  },
  {
   "cell_type": "code",
   "execution_count": null,
   "metadata": {},
   "outputs": [],
   "source": []
  }
 ],
 "metadata": {
  "kernelspec": {
   "display_name": "Python 3",
   "language": "python",
   "name": "python3"
  },
  "language_info": {
   "codemirror_mode": {
    "name": "ipython",
    "version": 3
   },
   "file_extension": ".py",
   "mimetype": "text/x-python",
   "name": "python",
   "nbconvert_exporter": "python",
   "pygments_lexer": "ipython3",
   "version": "3.7.7"
  }
 },
 "nbformat": 4,
 "nbformat_minor": 4
}
